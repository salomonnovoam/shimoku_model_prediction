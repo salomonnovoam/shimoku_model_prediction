{
 "cells": [
  {
   "cell_type": "code",
   "execution_count": 1,
   "metadata": {},
   "outputs": [
    {
     "name": "stderr",
     "output_type": "stream",
     "text": [
      "/Library/Frameworks/Python.framework/Versions/3.11/lib/python3.11/site-packages/pydantic/_migration.py:288: UserWarning: `pydantic.utils:lenient_issubclass` has been removed. We are importing from `pydantic.v1.utils:lenient_issubclass` instead.See the migration guide for more details: https://docs.pydantic.dev/latest/migration/\n",
      "  warnings.warn(\n",
      "/Library/Frameworks/Python.framework/Versions/3.11/lib/python3.11/site-packages/pydantic/_migration.py:288: UserWarning: `pydantic.utils:smart_deepcopy` has been removed. We are importing from `pydantic.v1.utils:smart_deepcopy` instead.See the migration guide for more details: https://docs.pydantic.dev/latest/migration/\n",
      "  warnings.warn(\n"
     ]
    }
   ],
   "source": [
    "\n",
    "import shimoku_api_python as Shimoku\n",
    "import pandas as pd\n",
    "# Client initialization with playground mode\n",
    "s = Shimoku.Client()"
   ]
  },
  {
   "cell_type": "code",
   "execution_count": 2,
   "metadata": {},
   "outputs": [],
   "source": [
    "s = Shimoku.Client(\n",
    "    local_port=8080,\n",
    "    async_execution=True,\n",
    "    verbosity='INFO', \n",
    ")\n"
   ]
  },
  {
   "cell_type": "code",
   "execution_count": 3,
   "metadata": {},
   "outputs": [
    {
     "name": "stdout",
     "output_type": "stream",
     "text": [
      "2023-12-13 18:48 | INFO | Starting execution: \u001b[4mset_workspace\u001b[0m\n",
      "2023-12-13 18:48 | INFO | Finished execution: \u001b[4mset_workspace\u001b[0m, elapsed time: 19.65 ms\n",
      "2023-12-13 18:48 | INFO | Starting execution: \u001b[4mset_board\u001b[0m\n",
      "2023-12-13 18:48 | INFO | Retrieved board Custom Board with id 7d058608-db27-46e3-b1ec-d4bdae0efde9\n",
      "2023-12-13 18:48 | INFO | Finished execution: \u001b[4mset_board\u001b[0m, elapsed time: 3.26 ms\n"
     ]
    }
   ],
   "source": [
    "# Necessary for compatibility with cloud execution\n",
    "s.set_workspace() \n",
    "\n",
    "# Set the group of the menu\n",
    "s.set_board('Custom Board')"
   ]
  },
  {
   "cell_type": "code",
   "execution_count": 4,
   "metadata": {},
   "outputs": [
    {
     "name": "stdout",
     "output_type": "stream",
     "text": [
      "2023-12-13 18:48 | INFO | Starting execution: \u001b[4mset_menu_path\u001b[0m\n",
      "2023-12-13 18:48 | INFO | Retrieved menu path Technical Test with id db2a2b47-aaf2-4bc5-8942-94b7792d70f1\n",
      "2023-12-13 18:48 | INFO | Finished execution: \u001b[4mset_menu_path\u001b[0m, elapsed time: 100.76 ms\n",
      "2023-12-13 18:48 | INFO | html added to the task pool\n",
      "2023-12-13 18:48 | INFO | Executing task pool\n",
      "2023-12-13 18:48 | INFO | Starting execution: \u001b[4mhtml\u001b[0m\n",
      "2023-12-13 18:48 | INFO | No changes needed for HTML at Context_0\n",
      "2023-12-13 18:48 | INFO | Finished execution: \u001b[4mhtml\u001b[0m, elapsed time: 7.93 ms\n",
      "2023-12-13 18:48 | INFO | Business contents updated event created\n"
     ]
    }
   ],
   "source": [
    "\n",
    "# Set the menu path 'catalog' with the sub-path 'bar-example'\n",
    "s.set_menu_path('Technical Test', 'Context')\n",
    "\n",
    "s.plt.html(html=f'<h3> Context </h3>'\n",
    "                f\"<p>We are developing a lead scoring algorithm for a client's Event Management SaaS application. We receive raw CRM data \"\n",
    "                f\"from the client and prepare it to train a classification algorithm that predicts lead conversion probability. The \"\n",
    "                f\"datasets track lead journeys and sales offer outcomes, helping us make data-driven decisions. We receive two datasets: \"\n",
    "                f\"'leads.csv' for potential clients and 'offers.csv' for those who reached the demo meeting. The target column, 'Status' \"\n",
    "                f\"in 'offers.csv,' indicates whether a client purchased the product.</p>\"\n",
    "                f'<h3> Content </h3>'\n",
    "                f'<p> 1. Exploration and Data Understanding </p>'\n",
    "                f'<p> 2. Univariate and Multivariate Analysis </p>'\n",
    "                f'<p> 3. Business Analysis </p>'\n",
    "                f'<p> 4. Data Cleaning and Preprocessing </p>'\n",
    "                f'<p> 5. Model Training and Hyperparameter Search </p>'\n",
    "                f'<p> 6. Results </p>'\n",
    "                f'<p> 7. Model Validation </p>',\n",
    "            order=0, cols_size=22, rows_size=5, padding='1,1,1,1')\n",
    "s.run()\n"
   ]
  },
  {
   "cell_type": "code",
   "execution_count": 5,
   "metadata": {},
   "outputs": [
    {
     "name": "stdout",
     "output_type": "stream",
     "text": [
      "2023-12-13 18:48 | INFO | Starting execution: \u001b[4mset_menu_path\u001b[0m\n",
      "2023-12-13 18:48 | INFO | Finished execution: \u001b[4mset_menu_path\u001b[0m, elapsed time: 0.06 ms\n",
      "2023-12-13 18:48 | INFO | html added to the task pool\n",
      "2023-12-13 18:48 | INFO | Executing task pool\n",
      "2023-12-13 18:48 | INFO | Starting execution: \u001b[4mhtml\u001b[0m\n",
      "2023-12-13 18:48 | INFO | No changes needed for HTML at 1. Exploration and Data Understanding_0\n",
      "2023-12-13 18:48 | INFO | Finished execution: \u001b[4mhtml\u001b[0m, elapsed time: 0.49 ms\n",
      "2023-12-13 18:48 | INFO | Business contents updated event created\n"
     ]
    }
   ],
   "source": [
    "# Set the menu path 'catalog' with the sub-path 'bar-example'\n",
    "s.set_menu_path('Technical Test', '1. Exploration and Data Understanding')\n",
    "\n",
    "s.plt.html(html=f'<h3> Exploration and Data Understanding </h3>'\n",
    "                f'<p>This phase involved understanding and exploring the data, its source, and identifying any potential issues related to quality or completeness. During this step, we explored two files: \"leads\" and \"offers\" and gathered the following insights:</p>'\n",
    "                f'<p>1. The data is imbalanced, with a significantly higher number of leads compared to offers.</p>'\n",
    "                f'<p>2. The data is incomplete, containing missing values in some columns.</p>'\n",
    "                f'<p>3. Certain columns require transformation or the creation of new features to make them suitable for modeling (e.g., date columns).</p>'\n",
    "                f'<p>4. Some columns are irrelevant for the model, such as ID and Discount code.</p>'\n",
    "                f'<p>5. To complete the information, it is necessary to merge the two files.</p>',\n",
    "            order=0, cols_size=22, rows_size=5, padding='1,1,1,1')\n",
    "s.run()"
   ]
  },
  {
   "cell_type": "code",
   "execution_count": 6,
   "metadata": {},
   "outputs": [
    {
     "name": "stdout",
     "output_type": "stream",
     "text": [
      "2023-12-13 18:48 | INFO | Starting execution: \u001b[4mset_menu_path\u001b[0m\n",
      "2023-12-13 18:48 | INFO | Finished execution: \u001b[4mset_menu_path\u001b[0m, elapsed time: 0.04 ms\n",
      "2023-12-13 18:48 | INFO | html added to the task pool\n",
      "2023-12-13 18:48 | INFO | Executing task pool\n",
      "2023-12-13 18:48 | INFO | Starting execution: \u001b[4mhtml\u001b[0m\n",
      "2023-12-13 18:48 | INFO | No changes needed for HTML at 2. Univariate and Multivariate Analysis_0\n",
      "2023-12-13 18:48 | INFO | Finished execution: \u001b[4mhtml\u001b[0m, elapsed time: 0.45 ms\n",
      "2023-12-13 18:48 | INFO | Business contents updated event created\n"
     ]
    }
   ],
   "source": [
    "# Set the menu path 'catalog' with the sub-path 'bar-example'\n",
    "s.set_menu_path('Technical Test', '2. Univariate and Multivariate Analysis')\n",
    "\n",
    "s.plt.html(html=f'<h3>Univariate and Multivariate Analysis</h3>'\n",
    "                f'<p>In this section, we will delve into both univariate and multivariate analysis to gain a comprehensive understanding of the data and uncover potential insights.</p>'\n",
    "                f'<p>During our analysis, we made several key observations:</p>'\n",
    "                f'<p>1. There is a wide variety of successful offers, but there are relatively few instances of unsuccessful ones. For instance, we noticed that many offers, initially categorized as qualified or existing in the \"offers\" dataset, were later reclassified as \"closed lost.\"</p>'\n",
    "                f'<p>2. We encountered a substantial number of leads that could not be definitively classified as either successful or unsuccessful, for example the \"Negotiatio\" ones.</p>'\n",
    "                f'<p>3. Additionally, we identified numerous types of acquisition campaigns that needed to be grouped together to facilitate a better grasp of the data.</p>'\n",
    "                f'<p>Our univariate and multivariate analyses have laid the foundation for deeper insights into the dataset, which will be crucial for subsequent stages of our analysis and modeling.</p>',\n",
    "            order=0, cols_size=22, rows_size=5, padding='1,1,1,1')\n",
    "s.run()"
   ]
  },
  {
   "cell_type": "code",
   "execution_count": 7,
   "metadata": {},
   "outputs": [
    {
     "name": "stdout",
     "output_type": "stream",
     "text": [
      "2023-12-13 18:48 | INFO | Starting execution: \u001b[4mset_menu_path\u001b[0m\n",
      "2023-12-13 18:48 | INFO | Finished execution: \u001b[4mset_menu_path\u001b[0m, elapsed time: 0.04 ms\n",
      "2023-12-13 18:48 | INFO | html added to the task pool\n",
      "2023-12-13 18:48 | INFO | Executing task pool\n",
      "2023-12-13 18:48 | INFO | Starting execution: \u001b[4mhtml\u001b[0m\n",
      "2023-12-13 18:48 | INFO | No changes needed for HTML at 3. Business Analysis_0\n",
      "2023-12-13 18:48 | INFO | Finished execution: \u001b[4mhtml\u001b[0m, elapsed time: 0.45 ms\n",
      "2023-12-13 18:48 | INFO | Business contents updated event created\n"
     ]
    }
   ],
   "source": [
    "# Set the menu path 'catalog' with the sub-path 'bar-example'\n",
    "s.set_menu_path('Technical Test', '3. Business Analysis')\n",
    "\n",
    "s.plt.html(html=f'<h3>Business Analysis</h3>'\n",
    "                f'<p>The Business Analysis phase is a critical step in our process, as it requires a focused examination of the data with an analytics mindset. This step involves identifying key variables that may not be available at the time the model is intended for use. Some of these variables include:</p>'\n",
    "                f'<ul>'\n",
    "                f'<li>Discarded/Nurturing Reason: Understanding why certain leads were discarded or nurtured rather than converted into customers is crucial for future decision-making and optimization.</li>'\n",
    "                f'<li>Close Date: Analyzing the historical close dates of successful deals can provide valuable insights into sales cycles and seasonality.</li>'\n",
    "                f'<li>Loss Reason: Investigating the reasons behind lost opportunities can help pinpoint areas for improvement in sales strategies and product offerings.</li>'\n",
    "                f'</ul>'\n",
    "                f'<p>By identifying these variables and their potential impact on our modeling and analysis, we can develop strategies to address any data gaps and ensure that our predictive model remains effective and relevant in real-world scenarios. A comprehensive business analysis is essential for making informed decisions and driving actionable insights from our data.</p>',\n",
    "                order=0, cols_size=22, rows_size=5, padding='1,1,1,1')\n",
    "s.run()"
   ]
  },
  {
   "cell_type": "code",
   "execution_count": 8,
   "metadata": {},
   "outputs": [
    {
     "name": "stdout",
     "output_type": "stream",
     "text": [
      "2023-12-13 18:48 | INFO | Starting execution: \u001b[4mset_menu_path\u001b[0m\n",
      "2023-12-13 18:48 | INFO | Finished execution: \u001b[4mset_menu_path\u001b[0m, elapsed time: 0.03 ms\n",
      "2023-12-13 18:48 | INFO | html added to the task pool\n",
      "2023-12-13 18:48 | INFO | Executing task pool\n",
      "2023-12-13 18:48 | INFO | Starting execution: \u001b[4mhtml\u001b[0m\n",
      "2023-12-13 18:48 | INFO | No changes needed for HTML at 4. Data Cleaning and Preprocessing_0\n",
      "2023-12-13 18:48 | INFO | Finished execution: \u001b[4mhtml\u001b[0m, elapsed time: 0.42 ms\n",
      "2023-12-13 18:48 | INFO | Business contents updated event created\n"
     ]
    }
   ],
   "source": [
    "\n",
    "s.set_menu_path('Technical Test', '4. Data Cleaning and Preprocessing')\n",
    "\n",
    "s.plt.html(html=f'<h3>Data Cleaning and Preprocessing</h3>'\n",
    "                f'<p>This step should include data preprocessing, feature engineering, and feature selection. These technical aspects are critical for preparing the data for modeling.</p>'\n",
    "                f'<p>The 5 most relevant processes that were undertaken are:</p>'\n",
    "                f'<ol>'\n",
    "                f'<li>The creation of the real target column, which took into account the actual lost and won opportunities based on both datasets and avoided the inconclusive ones.</li>'\n",
    "                f'<li>The creation of the new column \"Acquisition Campaign,\" which grouped the different types of campaigns.</li>'\n",
    "                f'<li>The creation of columns for the weekday, month day, and month of the opportunity creation date.</li>'\n",
    "                f'<li>The encoding of the categorical variables.</li>'\n",
    "                f'<li>Imputation of missing values based on the respective columns.</li>'\n",
    "                f'</ol>',\n",
    "\n",
    "                order=0, cols_size=22, rows_size=5, padding='1,1,1,1')\n",
    "s.run()"
   ]
  },
  {
   "cell_type": "code",
   "execution_count": 9,
   "metadata": {},
   "outputs": [
    {
     "name": "stdout",
     "output_type": "stream",
     "text": [
      "2023-12-13 18:48 | INFO | Starting execution: \u001b[4mset_menu_path\u001b[0m\n",
      "2023-12-13 18:48 | INFO | Finished execution: \u001b[4mset_menu_path\u001b[0m, elapsed time: 0.03 ms\n",
      "2023-12-13 18:48 | INFO | html added to the task pool\n",
      "2023-12-13 18:48 | INFO | Executing task pool\n",
      "2023-12-13 18:48 | INFO | Starting execution: \u001b[4mhtml\u001b[0m\n",
      "2023-12-13 18:48 | INFO | No changes needed for HTML at 5. Model Training and Hyperparameter Search_0\n",
      "2023-12-13 18:48 | INFO | Finished execution: \u001b[4mhtml\u001b[0m, elapsed time: 0.36 ms\n",
      "2023-12-13 18:48 | INFO | Business contents updated event created\n"
     ]
    }
   ],
   "source": [
    "s.set_menu_path('Technical Test', '5. Model Training and Hyperparameter Search')\n",
    "\n",
    "s.plt.html(html=f'<h3>Model Training and Hyperparameter Search</h3>'\n",
    "                f'<p>Training various models and tuning hyperparameters was essential for finding the best performing model. It was important to use techniques like cross-validation to evaluate model performance and avoid overfitting, in this it was used a K-fold = 5. The chosen models are well-known for their effectiveness in classification tasks and offer a range of flexibility and accuracy.</p>'\n",
    "                f'<p>For this case, the following models were used:</p>'\n",
    "                f'<ul>'\n",
    "                f'<li>XGB Classifier: Known for its speed and performance, particularly in sparse data environments.</li>'\n",
    "                f'<li>Random Forest Classifier: A robust model that is effective for handling large datasets with higher dimensionality, providing insights into feature importance.</li>'\n",
    "                f'<li>Gradient Boosting Classifier: An accurate and effective model, especially useful for unbalanced datasets.</li>'\n",
    "                f'</ul>'\n",
    "                f'<p>Each model’s hyperparameters were optimized through a Randomized Search approach, focusing particularly on the recall metric for the successful class. This metric was prioritized as it is crucial in our context to correctly identify as many positive instances (successful class) as possible, even at the expense of making some incorrect positive predictions (false positives). This approach helps in minimizing the risk of overlooking potential opportunities, which is pivotal in scenarios where the cost of missing a true positive is high.</p>',\n",
    "                order=0, cols_size=22, rows_size=5, padding='1,1,1,1')\n",
    "s.run()"
   ]
  },
  {
   "cell_type": "code",
   "execution_count": 10,
   "metadata": {},
   "outputs": [
    {
     "name": "stdout",
     "output_type": "stream",
     "text": [
      "2023-12-13 18:48 | INFO | Starting execution: \u001b[4mset_menu_path\u001b[0m\n",
      "2023-12-13 18:48 | INFO | Finished execution: \u001b[4mset_menu_path\u001b[0m, elapsed time: 0.04 ms\n",
      "2023-12-13 18:48 | INFO | html added to the task pool\n",
      "2023-12-13 18:48 | INFO | Executing task pool\n",
      "2023-12-13 18:48 | INFO | Starting execution: \u001b[4mhtml\u001b[0m\n",
      "2023-12-13 18:48 | INFO | No changes needed for HTML at 6. Results_0\n",
      "2023-12-13 18:48 | INFO | Finished execution: \u001b[4mhtml\u001b[0m, elapsed time: 0.75 ms\n",
      "2023-12-13 18:48 | INFO | Business contents updated event created\n"
     ]
    }
   ],
   "source": [
    "s.set_menu_path('Technical Test', '6. Results')\n",
    "\n",
    "s.plt.html(html=f'<h3>Results</h3>'\n",
    "                f\"<p>The Randomized Search for the RandomForestClassifier has identified the following optimal hyperparameters, each contributing uniquely to the model's performance:</p>\"\n",
    "                f'<ul>'\n",
    "                f'<li>N Estimators (500): Number of trees in the forest. Higher numbers generally lead to better performance but increase computational cost.</li>'\n",
    "                f'<li>Min Samples Split (2): The minimum number of samples required to split an internal node. Lower values can lead to a more complex tree, whereas higher values prevent overfitting.</li>'\n",
    "                f'<li>Min Samples Leaf (7): The minimum number of samples required to be at a leaf node. This parameter further guards against overfitting by smoothing the model.</li>'\n",
    "                f'<li>Max Features (log2): The number of features to consider when looking for the best split. Using \"log2\" features reduces variance but increases bias.</li>'\n",
    "                f'<li>Max Depth (15): The maximum depth of the tree. Limits the growth of the tree to prevent overfitting.</li>'\n",
    "                f'<li>Class Weight (Balanced): Adjusts weights inversely proportional to class frequencies in the input data. This is crucial for datasets with imbalanced classes.</li>'\n",
    "                f'</ul>'\n",
    "                f'<p>With these parameters, the RandomForestClassifier achieved a recall score of 0.8017, highlighting its effectiveness in accurately identifying positive cases. Notably, this model demonstrated superior performance consistently, reinforcing its reliability and robustness as a tool in our predictive analysis.</p>',\n",
    "                order=0, cols_size=22, rows_size=5, padding='1,1,1,1')\n",
    "s.run()"
   ]
  },
  {
   "cell_type": "code",
   "execution_count": 11,
   "metadata": {},
   "outputs": [
    {
     "name": "stdout",
     "output_type": "stream",
     "text": [
      "2023-12-13 18:48 | INFO | Starting execution: \u001b[4mset_menu_path\u001b[0m\n",
      "2023-12-13 18:48 | INFO | Finished execution: \u001b[4mset_menu_path\u001b[0m, elapsed time: 0.09 ms\n",
      "2023-12-13 18:48 | INFO | html added to the task pool\n",
      "2023-12-13 18:48 | INFO | bar_chart added to the task pool\n",
      "2023-12-13 18:48 | INFO | Executing task pool\n",
      "2023-12-13 18:48 | INFO | Starting execution: \u001b[4mhtml\u001b[0m\n",
      "2023-12-13 18:48 | INFO | Starting execution: \u001b[4mbar_chart\u001b[0m\n",
      "2023-12-13 18:48 | INFO | Changing component type from HTML to ECHARTS2\n",
      "2023-12-13 18:48 | INFO | Business contents updated event created\n"
     ]
    }
   ],
   "source": [
    "\n",
    "# Create a DataFrame from the provided CSV data\n",
    "data = pd.read_csv(\"shap_values.csv\" , header=None, names=['Feature', 'Value'])\n",
    "\n",
    "data\n",
    "\n",
    "# Set the menu path 'Technical Test' with the sub-path 'Model'\n",
    "s.set_menu_path('Technical Test', 'Model')\n",
    "\n",
    "# Add a description of the model preparation\n",
    "s.plt.html(html=f'<h3>Model Preparation</h3>'\n",
    "                f'<p>Using machine learning, we can analyze and visualize the data:</p>')\n",
    "\n",
    "# Create a bar chart to display the data\n",
    "s.plt.bar(order=0, title='Feature Importance', data=data, x='Feature', y='Value')\n",
    "\n",
    "# Run the Shimoku Python code\n",
    "s.run()"
   ]
  },
  {
   "cell_type": "code",
   "execution_count": 12,
   "metadata": {},
   "outputs": [
    {
     "name": "stdout",
     "output_type": "stream",
     "text": [
      "2023-12-13 18:48 | INFO | Starting execution: \u001b[4mset_menu_path\u001b[0m\n",
      "2023-12-13 18:48 | INFO | Finished execution: \u001b[4mset_menu_path\u001b[0m, elapsed time: 0.03 ms\n",
      "2023-12-13 18:48 | INFO | html added to the task pool\n",
      "2023-12-13 18:48 | INFO | bar_chart added to the task pool\n",
      "2023-12-13 18:48 | INFO | Executing task pool\n",
      "2023-12-13 18:48 | INFO | Starting execution: \u001b[4mhtml\u001b[0m\n",
      "2023-12-13 18:48 | INFO | No changes needed for HTML at 6. Results: Variable Analysis_0\n",
      "2023-12-13 18:48 | INFO | Finished execution: \u001b[4mhtml\u001b[0m, elapsed time: 0.50 ms\n",
      "2023-12-13 18:48 | INFO | Starting execution: \u001b[4mbar_chart\u001b[0m\n",
      "2023-12-13 18:48 | INFO | Changing component type from HTML to ECHARTS2\n",
      "2023-12-13 18:48 | INFO | Deleted data set with name da0a4a9f-59d8-4071-8786-2941059c8c48\n",
      "2023-12-13 18:48 | INFO | Created data set with id 3dcdfdae-c309-4ee8-acc3-c0265e3538de and name da0a4a9f-59d8-4071-8786-2941059c8c48\n",
      "2023-12-13 18:48 | INFO | Deleted 0 component data set links from component at 6. Results: Variable Analysis_2\n",
      "2023-12-13 18:48 | INFO | Created 2 component data set links for component 6. Results: Variable Analysis_2\n",
      "2023-12-13 18:48 | INFO | Updated EChart at 6. Results: Variable Analysis_2\n",
      "2023-12-13 18:48 | INFO | Finished execution: \u001b[4mbar_chart\u001b[0m, elapsed time: 71.44 ms\n",
      "2023-12-13 18:48 | INFO | Business contents updated event created\n"
     ]
    }
   ],
   "source": [
    "\n",
    "data = pd.read_csv(\"shap_values.csv\", header=None, names=['Feature', 'Value'])\n",
    "\n",
    "data.dropna(inplace=True)\n",
    "data['feature_group'] = data['Feature'].apply(lambda x: x.split('_')[0])\n",
    "\n",
    "data = data.groupby('feature_group')['Value'].sum().sort_values(ascending=False).reset_index()\n",
    "# Convert the DataFrame to a dictionary\n",
    "data_dict = data.to_dict(orient='records')\n",
    "\n",
    "# Set the menu path 'Technical Test' with the sub-path 'Model'\n",
    "s.set_menu_path('Technical Test', '6. Results: Variable Analysis')\n",
    "\n",
    "# Add the model analysis text\n",
    "s.plt.html(html=f'<h3> Feature Impact on Lead Conversion Prediction </h3>'\n",
    "                f'<p>Insights from SHAP values have revealed the importance of different feature groups in predicting the success of lead conversion. These insights are crucial for strategic planning and optimization:</p>'\n",
    "                f'<p>1. <strong>Use Case</strong>: With the highest value, this indicates the critical role of categorizing leads based on their use case for conversion success.</p>'\n",
    "                f'<p>2. <strong>Source</strong>: The origin of leads (inbound or outbound) is the second most influential factor, essential for refining marketing strategies.</p>'\n",
    "                f'<p>3. <strong>Acquisition Campaign</strong>: Specific campaigns are significant in determining lead quality, highlighting the need for campaign effectiveness analysis.</p>'\n",
    "                f'<p>4. <strong>Campaign Group</strong>: Different campaign groups vary in their impact on lead conversion, suggesting a potential for resource reallocation.</p>'\n",
    "                f'<p>5. <strong>Month</strong>: Indicates possible seasonality effects in lead conversion rates, which can guide the timing of marketing efforts.</p>'\n",
    "                f'<p>6. <strong>City</strong>: Geographic location impacts lead success, pointing to the importance of localized marketing approaches.</p>'\n",
    "                f'<p>7. <strong>Day of Month</strong>: Suggests specific days may be more favorable for lead engagement and conversion activities.</p>'\n",
    "                f'<p>8. <strong>Weekday</strong>: Has a smaller but still notable effect, potentially indicating the best days to contact leads.</p>',\n",
    "            order=0, cols_size=22, rows_size=5, padding='1,1,1,1')\n",
    "\n",
    "\n",
    "# Plotting the classification metrics\n",
    "s.plt.bar(\n",
    "    order=2,  # Adjust the order to fit inqto your dashboard layout\n",
    "    title='Classification Metrics',\n",
    "    data=data_dict,\n",
    "    x='feature_group',\n",
    "    y=\"Value\"\n",
    ")\n",
    "# Run the Shimoku Python code\n",
    "s.run()"
   ]
  }
 ],
 "metadata": {
  "kernelspec": {
   "display_name": "Python 3",
   "language": "python",
   "name": "python3"
  },
  "language_info": {
   "codemirror_mode": {
    "name": "ipython",
    "version": 3
   },
   "file_extension": ".py",
   "mimetype": "text/x-python",
   "name": "python",
   "nbconvert_exporter": "python",
   "pygments_lexer": "ipython3",
   "version": "3.11.3"
  }
 },
 "nbformat": 4,
 "nbformat_minor": 2
}
